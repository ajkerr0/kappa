{
 "cells": [
  {
   "cell_type": "markdown",
   "metadata": {},
   "source": [
    "# General Tutorial\n",
    "\n",
    "This is an introductory tutorial for the python package currently called `kappa`.  We will build molecules, draw them, and look at their attributes.\n",
    "\n",
    "First we must import the package."
   ]
  },
  {
   "cell_type": "code",
   "execution_count": null,
   "metadata": {
    "collapsed": false
   },
   "outputs": [],
   "source": [
    "#put matplotlib plots in the notebook, then import the package\n",
    "%matplotlib inline \n",
    "import kappa"
   ]
  },
  {
   "cell_type": "markdown",
   "metadata": {},
   "source": [
    "As it stands users must define a forcefield before building molecules.  We will establish an Amber forcefield.  We can turn interactions in the forcefield on and off, but we won't concern ourselves with that here."
   ]
  },
  {
   "cell_type": "code",
   "execution_count": null,
   "metadata": {
    "collapsed": true
   },
   "outputs": [],
   "source": [
    "amber = kappa.Amber()"
   ]
  },
  {
   "cell_type": "markdown",
   "metadata": {
    "collapsed": true
   },
   "source": [
    "To build molecules, users call the `build` function.  To see the kinds of molecules available for generation, print `kappa.lattices`."
   ]
  },
  {
   "cell_type": "code",
   "execution_count": null,
   "metadata": {
    "collapsed": false
   },
   "outputs": [],
   "source": [
    "print(kappa.lattices)"
   ]
  },
  {
   "cell_type": "markdown",
   "metadata": {},
   "source": [
    "We'll build our bread and butter molecule first, an armchair carbon nanotube.  Every molecule generated through `kappa.build` requires a forcefield argument then a lattice string found from `kappa.lattices`."
   ]
  },
  {
   "cell_type": "code",
   "execution_count": null,
   "metadata": {
    "collapsed": false
   },
   "outputs": [],
   "source": [
    "cnt = kappa.build(amber, \"cnt\")"
   ]
  },
  {
   "cell_type": "markdown",
   "metadata": {},
   "source": [
    "We can plot our molecules too.  This plot routine will show the bonds."
   ]
  },
  {
   "cell_type": "code",
   "execution_count": null,
   "metadata": {
    "collapsed": false
   },
   "outputs": [],
   "source": [
    "kappa.plot.bonds(cnt)"
   ]
  },
  {
   "cell_type": "markdown",
   "metadata": {},
   "source": [
    "Attributes of the molecules include, but are not limited to: `posList`, `bondList`, `angleList`, `atomtypes`.  We'll show this off in a smaller molecule."
   ]
  },
  {
   "cell_type": "code",
   "execution_count": null,
   "metadata": {
    "collapsed": false
   },
   "outputs": [],
   "source": [
    "graphene = kappa.build(amber, \"graphene\", radius=2)\n",
    "\n",
    "kappa.plot.bonds(graphene, indices=True)\n",
    "\n",
    "# print(graphene.posList)\n",
    "print(graphene.bondList)\n",
    "print(graphene.angleList)\n",
    "print(graphene.atomtypes)"
   ]
  },
  {
   "cell_type": "markdown",
   "metadata": {},
   "source": [
    "`Molecule.atomtypes` comes from its forcefield."
   ]
  },
  {
   "cell_type": "code",
   "execution_count": null,
   "metadata": {
    "collapsed": true
   },
   "outputs": [],
   "source": []
  }
 ],
 "metadata": {
  "anaconda-cloud": {},
  "kernelspec": {
   "display_name": "Python [Root]",
   "language": "python",
   "name": "Python [Root]"
  },
  "language_info": {
   "codemirror_mode": {
    "name": "ipython",
    "version": 3
   },
   "file_extension": ".py",
   "mimetype": "text/x-python",
   "name": "python",
   "nbconvert_exporter": "python",
   "pygments_lexer": "ipython3",
   "version": "3.5.2"
  }
 },
 "nbformat": 4,
 "nbformat_minor": 0
}
