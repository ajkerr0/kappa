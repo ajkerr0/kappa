{
 "cells": [
  {
   "cell_type": "code",
   "execution_count": null,
   "metadata": {
    "collapsed": true
   },
   "outputs": [],
   "source": [
    "%matplotlib inline\n",
    "\n",
    "import kappa"
   ]
  },
  {
   "cell_type": "code",
   "execution_count": null,
   "metadata": {
    "collapsed": false
   },
   "outputs": [],
   "source": [
    "amber = kappa.Amber()\n",
    "\n",
    "cnt = kappa.build(amber, \"cnt\")\n",
    "\n",
    "kappa.plot.bonds(cnt)\n",
    "\n",
    "kappa.plot.faces(cnt)"
   ]
  },
  {
   "cell_type": "code",
   "execution_count": null,
   "metadata": {
    "collapsed": false
   },
   "outputs": [],
   "source": [
    "#pick our indices\n",
    "indices1 = [73,3]\n",
    "indices2 = [73,3,76,146]\n",
    "\n",
    "#generate some chains\n",
    "polyeth = kappa.build(amber, \"polyeth\", count=2)\n",
    "teflon = kappa.build(amber, \"teflon\", count=2)\n",
    "\n",
    "#let's look at them\n",
    "kappa.plot.bonds(polyeth, sites=True)\n",
    "kappa.plot.bonds(teflon, sites=True)"
   ]
  },
  {
   "cell_type": "code",
   "execution_count": null,
   "metadata": {
    "collapsed": false
   },
   "outputs": [],
   "source": [
    "#call attach function to make a new molecule\n",
    "cnt_polyeth1 = kappa.attach(cnt, [polyeth]*2, indices1)\n",
    "\n",
    "kappa.plot.bonds(cnt_polyeth1)"
   ]
  },
  {
   "cell_type": "markdown",
   "metadata": {},
   "source": [
    "What we've just done is attach a polyethylene molecule (length unit 2 as specified) to the atomic indices we specified in `indices1`.\n",
    "\n",
    "Let us make more molecules then export their gro files.\n",
    "\n",
    "mol0 is 1 polyethylene connection on each interface\n",
    "\n",
    "mol1 is 2 polyeth connections\n",
    "\n",
    "mol2 is 1 teflon connection\n",
    "\n",
    "mol3 is 2 teflon connections\n",
    "\n",
    "all connections are length 2\n"
   ]
  },
  {
   "cell_type": "code",
   "execution_count": null,
   "metadata": {
    "collapsed": false
   },
   "outputs": [],
   "source": [
    "cnt_polyeth2 = kappa.attach(cnt, [polyeth]*4, indices2)\n",
    "\n",
    "cnt_teflon1 = kappa.attach(cnt, [teflon]*2, indices1)\n",
    "cnt_teflon2 = kappa.attach(cnt, [teflon]*4, indices2)\n",
    "\n",
    "kappa.plot.bonds(cnt_polyeth2)\n",
    "kappa.plot.bonds(cnt_teflon1)\n",
    "kappa.plot.bonds(cnt_teflon2)"
   ]
  },
  {
   "cell_type": "markdown",
   "metadata": {},
   "source": [
    "You may wish to stop plotting matplotlib inline and look at these molecules in 3d.\n",
    "\n",
    "Now let's export."
   ]
  },
  {
   "cell_type": "code",
   "execution_count": null,
   "metadata": {
    "collapsed": false
   },
   "outputs": [],
   "source": [
    "for count, mol in enumerate([cnt_polyeth1, cnt_polyeth2, cnt_teflon1, cnt_teflon2]):\n",
    "    name = 'mol{}'.format(count)\n",
    "    mol.hydrogenate()\n",
    "    pdb = kappa.md.generate.pdb(mol)\n",
    "    gro = kappa.md.generate.gro(mol, fn=name+'.gro')\n",
    "    itp = kappa.md.generate.restrains(mol, fn=name+'.itp')\n",
    "    kappa.md.save_file(pdb,'.', name+'.pdb')"
   ]
  },
  {
   "cell_type": "code",
   "execution_count": null,
   "metadata": {
    "collapsed": true
   },
   "outputs": [],
   "source": []
  }
 ],
 "metadata": {
  "kernelspec": {
   "display_name": "Python 3",
   "language": "python",
   "name": "python3"
  },
  "language_info": {
   "codemirror_mode": {
    "name": "ipython",
    "version": 3
   },
   "file_extension": ".py",
   "mimetype": "text/x-python",
   "name": "python",
   "nbconvert_exporter": "python",
   "pygments_lexer": "ipython3",
   "version": "3.5.1"
  }
 },
 "nbformat": 4,
 "nbformat_minor": 0
}
