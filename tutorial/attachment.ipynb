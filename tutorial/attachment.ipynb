{
 "cells": [
  {
   "cell_type": "markdown",
   "metadata": {},
   "source": [
    "# Attachment Tutorial\n",
    "\n",
    "This document will briefly describe how to attach molecules to each other.\n",
    "\n",
    "Molecules that are capable of 'bonding' have defined interfaces which can be viewed when the molecules are drawn with the `faces` option turned on."
   ]
  },
  {
   "cell_type": "code",
   "execution_count": null,
   "metadata": {
    "collapsed": false
   },
   "outputs": [],
   "source": [
    "%matplotlib inline\n",
    "import kappa\n",
    "\n",
    "amber = kappa.Amber()\n",
    "\n",
    "cnt = kappa.build(amber, \"cnt\")"
   ]
  },
  {
   "cell_type": "code",
   "execution_count": null,
   "metadata": {
    "collapsed": false
   },
   "outputs": [],
   "source": [
    "kappa.plot.bonds(cnt, faces=True)"
   ]
  },
  {
   "cell_type": "markdown",
   "metadata": {},
   "source": [
    "Interfaces are composed of the atoms in the interface and a normal vector in red.\n",
    "\n",
    "Other molecules have intefaces too:"
   ]
  },
  {
   "cell_type": "code",
   "execution_count": null,
   "metadata": {
    "collapsed": false
   },
   "outputs": [],
   "source": [
    "amine = kappa.build(amber, \"amine\")\n",
    "\n",
    "kappa.plot.bonds(amine, sites=True, faces=True)"
   ]
  },
  {
   "cell_type": "markdown",
   "metadata": {},
   "source": [
    "Without looking under the hood, one way to attach these molecules together is to use a `kappa.Calculation`.  As the uninspired name suggests, it is used to actually calculate the thermal conductivity through the interfaces.  We only care about preparing the functionalized molecules.\n",
    "\n",
    "First we need to find the locations on the CNT where we want to attach our molecules.  These are atomic indices.  We do this by plotting the interfaces in space with the indices shown."
   ]
  },
  {
   "cell_type": "code",
   "execution_count": null,
   "metadata": {
    "collapsed": false
   },
   "outputs": [],
   "source": [
    "kappa.plot.faces(cnt)"
   ]
  },
  {
   "cell_type": "markdown",
   "metadata": {},
   "source": [
    "These are the ends of the tube.  Let's say we'll functionalize each end once, so we need to pick 1 index from each interface.  We will do this arbitrarily.\n",
    "\n",
    "We will instantiate a Calculation object with the CNT base molecule.  We will then combine molecules my passing a list of indices with list of molecules to attach [to the base].  By default energy minimization will occur, but with the default forcefield it should only take moments.  The behavior of this is subject to change."
   ]
  },
  {
   "cell_type": "code",
   "execution_count": null,
   "metadata": {
    "collapsed": false
   },
   "outputs": [],
   "source": [
    "indices = [1, 72]\n",
    "\n",
    "#Calculations take the base molecule as an argument ie CNTs\n",
    "mols = kappa.Calculation(cnt)\n",
    "\n",
    "#Calculation.add to put trial functions in Calculation.trialList\n",
    "mol1 = mols.add([amine, amine], indices)\n",
    "\n",
    "kappa.plot.bonds(mol1)"
   ]
  },
  {
   "cell_type": "markdown",
   "metadata": {},
   "source": [
    "We can also access the molecules of the `Calculation` object using `Calculation.trialList`, the index of which is in the order in which we added attachments via the `add` method."
   ]
  },
  {
   "cell_type": "code",
   "execution_count": null,
   "metadata": {
    "collapsed": false
   },
   "outputs": [],
   "source": [
    "kappa.plot.bonds(mols.trialList[0])"
   ]
  },
  {
   "cell_type": "code",
   "execution_count": null,
   "metadata": {
    "collapsed": true
   },
   "outputs": [],
   "source": [
    "We can do this with the library of molecule"
   ]
  }
 ],
 "metadata": {
  "kernelspec": {
   "display_name": "Python 3",
   "language": "python",
   "name": "python3"
  },
  "language_info": {
   "codemirror_mode": {
    "name": "ipython",
    "version": 3
   },
   "file_extension": ".py",
   "mimetype": "text/x-python",
   "name": "python",
   "nbconvert_exporter": "python",
   "pygments_lexer": "ipython3",
   "version": "3.5.1"
  }
 },
 "nbformat": 4,
 "nbformat_minor": 0
}
